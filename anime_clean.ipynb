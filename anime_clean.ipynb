{
 "cells": [
  {
   "cell_type": "code",
   "execution_count": null,
   "metadata": {},
   "outputs": [],
   "source": [
    "# Dependencies and Setup\n",
    "import matplotlib.pyplot as plt\n",
    "import seaborn as sns\n",
    "import pandas as pd\n",
    "import scipy.stats as st\n",
    "import numpy as np\n",
    "import scipy.stats as sts\n",
    "import random\n",
    "from scipy.stats import sem\n",
    "import sklearn.datasets as dta\n",
    "from scipy.stats import linregress"
   ]
  },
  {
   "cell_type": "code",
   "execution_count": null,
   "metadata": {},
   "outputs": [],
   "source": [
    "#file test\n",
    "kaggle_anime_df = \"data/Anime_csv.csv\""
   ]
  },
  {
   "cell_type": "code",
   "execution_count": null,
   "metadata": {},
   "outputs": [],
   "source": [
    "kaggle_anime_df\n"
   ]
  },
  {
   "cell_type": "code",
   "execution_count": null,
   "metadata": {},
   "outputs": [],
   "source": [
    "anime_metadata = pd.read_csv(kaggle_anime_df)\n",
    "anime_metadata.head(2)\n"
   ]
  },
  {
   "cell_type": "code",
   "execution_count": null,
   "metadata": {},
   "outputs": [],
   "source": [
    "anime_metadata.Score"
   ]
  },
  {
   "cell_type": "code",
   "execution_count": null,
   "metadata": {},
   "outputs": [],
   "source": [
    "# anime_metadata.Score = anime_metadata.Score.astype(float)\n",
    "\n",
    "# this is why we need to remove unkowns first^^^^"
   ]
  },
  {
   "cell_type": "code",
   "execution_count": null,
   "metadata": {},
   "outputs": [],
   "source": [
    "cleaned_anime_df= anime_metadata[anime_metadata.Score != 'Unknown']\n",
    "cleaned_anime_df.head(10)"
   ]
  },
  {
   "cell_type": "code",
   "execution_count": null,
   "metadata": {},
   "outputs": [],
   "source": [
    "# cleaned_anime_df.dtypes"
   ]
  },
  {
   "cell_type": "code",
   "execution_count": null,
   "metadata": {},
   "outputs": [],
   "source": [
    "# cleaned_anime_df.Score = cleaned_anime_df.Score.astype(float, errors = 'raise')\n",
    "cleaned_anime_df.Score = cleaned_anime_df.Score.astype(float)\n",
    "cleaned_anime_df.Score"
   ]
  },
  {
   "cell_type": "code",
   "execution_count": null,
   "metadata": {},
   "outputs": [],
   "source": [
    "cleaned_anime_df.columns"
   ]
  },
  {
   "cell_type": "code",
   "execution_count": null,
   "metadata": {},
   "outputs": [],
   "source": [
    "cleaned_anime_df.Members"
   ]
  },
  {
   "cell_type": "code",
   "execution_count": null,
   "metadata": {},
   "outputs": [],
   "source": [
    "# Cloumns we want to get rid of\n",
    "\n",
    "# 'Japanese name', 'Aired', 'Premiered', 'Producers', 'Licensors', 'Durations', 'Ranked', 'Members', 'Favorites', 'Watching', 'Completed', 'On-Hold', 'Dropped','Plan to Watch', 'Score-10', 'Score-9', 'Score-8', 'Score-7', 'Score-6','Score-5', 'Score-4', 'Score-3', 'Score-2', 'Score-1'"
   ]
  },
  {
   "cell_type": "code",
   "execution_count": null,
   "metadata": {},
   "outputs": [],
   "source": [
    "#We actually want to keep the \"Score 1 - 10\" columns. We need to combine the columns in order to obtai the number of ratings each show/movie received"
   ]
  },
  {
   "cell_type": "code",
   "execution_count": null,
   "metadata": {},
   "outputs": [],
   "source": [
    "# dropping additional columns\n",
    "\n",
    "# cleaned_anime_df.drop('Japanese name', 'Aired', 'Premiered', 'Producers', 'Licensors', 'Durations', 'Ranked', 'Members', 'Favorites', 'Watching', 'Completed', 'On-Hold', 'Dropped','Plan to Watch', 'Score-10', 'Score-9', 'Score-8', 'Score-7', 'Score-6','Score-5', 'Score-4', 'Score-3', 'Score-2', 'Score-1')\n",
    "\n",
    "# drop function can only take up to 8\n",
    "cleaned_anime_df= cleaned_anime_df.drop(['Japanese name', 'Aired', 'Premiered', 'Producers', 'Licensors','Plan to Watch'], axis=1)\n",
    "cleaned_anime_df= cleaned_anime_df.drop(['Duration', 'Ranked', 'Members', 'Favorites', 'Watching', 'Completed', 'On-Hold', 'Dropped'], axis=1)\n",
    "# cleaned_anime_df= cleaned_anime_df.drop(['Score-10', 'Score-9', 'Score-8', 'Score-7', 'Score-6','Score-5', 'Score-4'], axis=1)\n",
    "# cleaned_anime_df= cleaned_anime_df.drop(['Score-3', 'Score-2', 'Score-1'], axis=1)\n",
    "cleaned_anime_df"
   ]
  },
  {
   "cell_type": "code",
   "execution_count": null,
   "metadata": {},
   "outputs": [],
   "source": [
    "cleaned_anime_df.dtypes\n"
   ]
  },
  {
   "cell_type": "code",
   "execution_count": null,
   "metadata": {},
   "outputs": [],
   "source": []
  },
  {
   "cell_type": "code",
   "execution_count": null,
   "metadata": {},
   "outputs": [],
   "source": [
    "# how many \"Uknowns in Sore fields?\"\n",
    "(cleaned_anime_df['Score-1']=='Unknown').sum()"
   ]
  },
  {
   "cell_type": "code",
   "execution_count": null,
   "metadata": {},
   "outputs": [],
   "source": [
    "cleaned_anime_df= cleaned_anime_df.replace({'Score-9': 'Unknown',\n",
    "                         'Score-8': 'Unknown',\n",
    "                         'Score-4': 'Unknown',\n",
    "                         'Score-3': 'Unknown',\n",
    "                         'Score-2': 'Unknown',\n",
    "                         'Score-1': 'Unknown'}, 0)\n"
   ]
  },
  {
   "cell_type": "code",
   "execution_count": null,
   "metadata": {},
   "outputs": [],
   "source": []
  },
  {
   "cell_type": "code",
   "execution_count": null,
   "metadata": {},
   "outputs": [],
   "source": [
    "cleaned_anime_df.loc[cleaned_anime_df['Score-9']== 'Unknown']"
   ]
  },
  {
   "cell_type": "code",
   "execution_count": null,
   "metadata": {},
   "outputs": [],
   "source": []
  },
  {
   "cell_type": "code",
   "execution_count": null,
   "metadata": {},
   "outputs": [],
   "source": []
  },
  {
   "cell_type": "code",
   "execution_count": null,
   "metadata": {},
   "outputs": [],
   "source": []
  },
  {
   "cell_type": "code",
   "execution_count": null,
   "metadata": {},
   "outputs": [],
   "source": [
    "cleaned_anime_df= cleaned_anime_df.astype({'Score-10': 'float',\n",
    "                                          'Score-9': 'float',\n",
    "                                          'Score-8': 'float',\n",
    "                                          'Score-7': 'float',\n",
    "                                          'Score-6': 'float',\n",
    "                                          'Score-5': 'float',\n",
    "                                          'Score-4': 'float',\n",
    "                                          'Score-3': 'float',\n",
    "                                          'Score-2': 'float',\n",
    "                                          'Score-1': 'float'})\n",
    "# cleaned_anime_df= cleaned_anime_df.astype({'Score-10': 'float'})\n",
    "cleaned_anime_df.dtypes"
   ]
  },
  {
   "cell_type": "code",
   "execution_count": null,
   "metadata": {},
   "outputs": [],
   "source": []
  },
  {
   "cell_type": "code",
   "execution_count": null,
   "metadata": {},
   "outputs": [],
   "source": [
    "# Next step is to combine all of the Score columns in order to obtain the number of ratings per show\n",
    "new_column = cleaned_anime_df['Score-10'] + cleaned_anime_df['Score-9'] + cleaned_anime_df['Score-8'] + cleaned_anime_df['Score-7'] +\\\n",
    "cleaned_anime_df['Score-6'] + cleaned_anime_df['Score-5'] + cleaned_anime_df['Score-4'] + cleaned_anime_df['Score-3'] +\\\n",
    "cleaned_anime_df['Score-2'] + cleaned_anime_df['Score-1']\n",
    "new_column"
   ]
  },
  {
   "cell_type": "code",
   "execution_count": null,
   "metadata": {},
   "outputs": [],
   "source": [
    "cleaned_anime_df['Number of Ratings']= new_column"
   ]
  },
  {
   "cell_type": "code",
   "execution_count": null,
   "metadata": {},
   "outputs": [],
   "source": [
    "cleaned_anime_df"
   ]
  },
  {
   "cell_type": "code",
   "execution_count": null,
   "metadata": {},
   "outputs": [],
   "source": [
    "# Now we can clear the Score-X columns\n",
    "cleaned_anime_df= cleaned_anime_df.drop(['Score-10', 'Score-9', 'Score-8', 'Score-7', 'Score-6','Score-5', 'Score-4'], axis=1)\n",
    "cleaned_anime_df= cleaned_anime_df.drop(['Score-3', 'Score-2', 'Score-1'], axis=1)\n",
    "cleaned_anime_df"
   ]
  },
  {
   "cell_type": "code",
   "execution_count": null,
   "metadata": {},
   "outputs": [],
   "source": [
    "ratings_anime_df = cleaned_anime_df.sort_values('Score', ascending=False)\n",
    "ratings_anime_df"
   ]
  },
  {
   "cell_type": "code",
   "execution_count": null,
   "metadata": {},
   "outputs": [],
   "source": [
    "# look at df sorted by the number of ratings\n",
    "ratings_anime_df.sort_values(by= ['Number of Ratings'], ascending= False)"
   ]
  },
  {
   "cell_type": "code",
   "execution_count": null,
   "metadata": {},
   "outputs": [],
   "source": [
    "# observing scale/skew of data\n",
    "sns.set_style('dark')\n",
    "\n",
    "plt.figure(figsize=(8,6))\n",
    "ratings_anime_df['Number of Ratings'].hist(bins=100)"
   ]
  },
  {
   "cell_type": "code",
   "execution_count": null,
   "metadata": {},
   "outputs": [],
   "source": [
    "# removing any show with a total rating count lower than 10,000\n",
    "ratings_anime_df.drop(ratings_anime_df[ratings_anime_df['Number of Ratings'] < 10000].index, inplace=True)\n",
    "# sorting ascending to check df\n",
    "ratings_anime_df.sort_values(by= ['Number of Ratings'], ascending= True)\n"
   ]
  },
  {
   "cell_type": "code",
   "execution_count": null,
   "metadata": {},
   "outputs": [],
   "source": [
    "# Went from 12421 shows to 3321"
   ]
  },
  {
   "cell_type": "code",
   "execution_count": null,
   "metadata": {},
   "outputs": [],
   "source": [
    "# observing scale/skew of data\n",
    "sns.set_style('dark')\n",
    "\n",
    "plt.figure(figsize=(8,6))\n",
    "ratings_anime_df['Number of Ratings'].hist(bins=100)"
   ]
  },
  {
   "cell_type": "code",
   "execution_count": null,
   "metadata": {},
   "outputs": [],
   "source": [
    "# Vast majority of shows have received less than 250,000 ratings"
   ]
  },
  {
   "cell_type": "code",
   "execution_count": null,
   "metadata": {},
   "outputs": [],
   "source": []
  },
  {
   "cell_type": "code",
   "execution_count": null,
   "metadata": {},
   "outputs": [],
   "source": [
    "# Compare Score versus TV Rating\n",
    "plt.figure(figsize=(8,6))\n",
    "plt.xticks(rotation = 60)\n",
    "ratings_anime_df['Rating'].hist()"
   ]
  },
  {
   "cell_type": "code",
   "execution_count": null,
   "metadata": {},
   "outputs": [],
   "source": []
  },
  {
   "cell_type": "code",
   "execution_count": null,
   "metadata": {},
   "outputs": [],
   "source": [
    "# Histogram of average rating\n",
    "fig, label= plt.subplots(figsize=(8,6))\n",
    "\n",
    "label.set(title= 'Average Rating Score',\n",
    "         xlabel= 'Score')\n",
    "\n",
    "# plt.figure(figsize=(8,6))\n",
    "ratings_anime_df['Score'].hist(bins=100)\n",
    "\n",
    "# increase xticks\n",
    "plt.xticks([1.5,2,2.5,3,3.5,4,4.5,5,5.5,6,6.5,7,7.5,8,8.5,9])\n",
    "\n",
    "plt.show()"
   ]
  },
  {
   "cell_type": "markdown",
   "metadata": {},
   "source": [
    "# ^^^ Average rating tends to be skewed away from the very low numbers. Average appears to be around 7.25"
   ]
  },
  {
   "cell_type": "code",
   "execution_count": null,
   "metadata": {},
   "outputs": [],
   "source": []
  },
  {
   "cell_type": "markdown",
   "metadata": {},
   "source": [
    "### Now plot the average Score against rating count to compare the average score of an anime compared to the number of ratings submitted. Also do this against the \"Popularity\" which is the MAL ranking of shows based on the number of times a show has been added to a user's list"
   ]
  },
  {
   "cell_type": "code",
   "execution_count": null,
   "metadata": {},
   "outputs": [],
   "source": [
    "plt.figure(figsize=(10,8))\n",
    "\n",
    "sns.jointplot(x='Score', y='Number of Ratings', data=ratings_anime_df, alpha=0.4)"
   ]
  },
  {
   "cell_type": "code",
   "execution_count": null,
   "metadata": {},
   "outputs": [],
   "source": []
  },
  {
   "cell_type": "code",
   "execution_count": null,
   "metadata": {},
   "outputs": [],
   "source": [
    "# Comparing now with \"Popularity\"\n",
    "plt.figure(figsize=(10,8))\n",
    "\n",
    "sns.jointplot(x='Score', y='Popularity', data=ratings_anime_df, alpha=0.4)"
   ]
  },
  {
   "cell_type": "code",
   "execution_count": null,
   "metadata": {},
   "outputs": [],
   "source": []
  },
  {
   "cell_type": "markdown",
   "metadata": {},
   "source": [
    "### This generally shows that anime with higher average ratings tend to have a higher number of ratings, compared with anime that have lower average ratings.\n",
    "\n",
    "### What is fairly surprising: the MAL popularity rank appears to have little correlation with a shows score."
   ]
  },
  {
   "cell_type": "code",
   "execution_count": null,
   "metadata": {},
   "outputs": [],
   "source": []
  },
  {
   "cell_type": "code",
   "execution_count": null,
   "metadata": {},
   "outputs": [],
   "source": []
  },
  {
   "cell_type": "code",
   "execution_count": null,
   "metadata": {},
   "outputs": [],
   "source": []
  },
  {
   "cell_type": "markdown",
   "metadata": {},
   "source": [
    "# Finding similarities between the anime shows/movies:"
   ]
  },
  {
   "cell_type": "code",
   "execution_count": null,
   "metadata": {},
   "outputs": [],
   "source": []
  },
  {
   "cell_type": "code",
   "execution_count": null,
   "metadata": {},
   "outputs": [],
   "source": [
    "# adding animelist csv for UserID and individual ratings"
   ]
  },
  {
   "cell_type": "code",
   "execution_count": null,
   "metadata": {},
   "outputs": [],
   "source": [
    "anime_list = \"data/animelist.csv\""
   ]
  },
  {
   "cell_type": "code",
   "execution_count": null,
   "metadata": {},
   "outputs": [],
   "source": [
    "# user_anime_df = pd.read_csv(anime_list)\n",
    "# user_anime_df.head(2)\n"
   ]
  },
  {
   "cell_type": "code",
   "execution_count": null,
   "metadata": {},
   "outputs": [],
   "source": [
    "# test\n",
    "# import pandas as pd\n",
    "L = ['67', '242']\n",
    "df_user= (pd.read_csv(anime_list, error_bad_lines=False) [lambda x: x['anime_id'].isin(L)])"
   ]
  },
  {
   "cell_type": "code",
   "execution_count": null,
   "metadata": {},
   "outputs": [],
   "source": [
    "df_user"
   ]
  },
  {
   "cell_type": "code",
   "execution_count": null,
   "metadata": {},
   "outputs": [],
   "source": [
    "ratings_anime_df.head(2)"
   ]
  },
  {
   "cell_type": "code",
   "execution_count": null,
   "metadata": {},
   "outputs": [],
   "source": [
    "mal_id_list = ratings_anime_df.MAL_ID.tolist()\n"
   ]
  },
  {
   "cell_type": "code",
   "execution_count": null,
   "metadata": {},
   "outputs": [],
   "source": [
    "# now with full MAL ID as list\n",
    "\n",
    "df_user= (pd.read_csv(anime_list, error_bad_lines=False) [lambda x: x['anime_id'].isin(mal_id_list)])"
   ]
  },
  {
   "cell_type": "code",
   "execution_count": null,
   "metadata": {},
   "outputs": [],
   "source": [
    "df_user"
   ]
  },
  {
   "cell_type": "code",
   "execution_count": null,
   "metadata": {},
   "outputs": [],
   "source": [
    "df_user.drop(columns=['watching_status', 'watched_episodes'], axis = 1, inplace=True)\n",
    "df_user.head()"
   ]
  },
  {
   "cell_type": "code",
   "execution_count": null,
   "metadata": {},
   "outputs": [],
   "source": [
    "ratings_anime_df.head()"
   ]
  },
  {
   "cell_type": "code",
   "execution_count": null,
   "metadata": {},
   "outputs": [],
   "source": [
    "# new_df = df_user.merge(ratings_anime_df, left_on='anime_id', right_on='MAL_ID')\n",
    "# new_df"
   ]
  },
  {
   "cell_type": "code",
   "execution_count": null,
   "metadata": {},
   "outputs": [],
   "source": [
    "# sub_rate_df= ratings_anime_df\n",
    "\n",
    "# cleaned_anime_df= cleaned_anime_df.drop(['Japanese name', 'Aired', 'Premiered', 'Producers', 'Licensors','Plan to Watch'], axis=1)\n"
   ]
  }
 ],
 "metadata": {
  "kernelspec": {
   "display_name": "Python 3",
   "language": "python",
   "name": "python3"
  },
  "language_info": {
   "codemirror_mode": {
    "name": "ipython",
    "version": 3
   },
   "file_extension": ".py",
   "mimetype": "text/x-python",
   "name": "python",
   "nbconvert_exporter": "python",
   "pygments_lexer": "ipython3",
   "version": "3.9.12"
  }
 },
 "nbformat": 4,
 "nbformat_minor": 4
}
